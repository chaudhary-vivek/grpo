{
 "cells": [
  {
   "cell_type": "markdown",
   "id": "7e131ab1",
   "metadata": {},
   "source": [
    "# Installs"
   ]
  },
  {
   "cell_type": "code",
   "execution_count": 1,
   "id": "fe054284",
   "metadata": {},
   "outputs": [],
   "source": [
    "# !pip install torchvision torchaudio\n",
    "# !pip install transformers  datasets tokenizers\n",
    "# !pip install trl peft wandb\n",
    "# !pip install huggingface_hub\n",
    "# !pip install accelerate==1.5.0\n",
    "# !pip install torch==2.8.0"
   ]
  },
  {
   "cell_type": "markdown",
   "id": "61b6c276",
   "metadata": {},
   "source": [
    "# Model download"
   ]
  },
  {
   "cell_type": "code",
   "execution_count": 2,
   "id": "72326b3e",
   "metadata": {},
   "outputs": [],
   "source": [
    "# from huggingface_hub import snapshot_download\n",
    "# model_path = snapshot_download(repo_id=\"Qwen/Qwen2.5-3B-Instruct\")"
   ]
  },
  {
   "cell_type": "markdown",
   "id": "b9e19ae4",
   "metadata": {},
   "source": [
    "# Imports"
   ]
  },
  {
   "cell_type": "code",
   "execution_count": null,
   "id": "715acee3",
   "metadata": {},
   "outputs": [],
   "source": [
    "import torch\n",
    "from transformers import AutoModelForCausalLM, AutoTokenizer\n",
    "import torch.nn.functional as F\n",
    "from torch.optim import AdamW\n"
   ]
  },
  {
   "cell_type": "code",
   "execution_count": 4,
   "id": "4cdf4f53",
   "metadata": {},
   "outputs": [
    {
     "name": "stderr",
     "output_type": "stream",
     "text": [
      "/Users/vivekchaudhary/anaconda3/lib/python3.11/site-packages/torchvision/io/image.py:13: UserWarning: Failed to load image Python extension: 'dlopen(/Users/vivekchaudhary/anaconda3/lib/python3.11/site-packages/torchvision/image.so, 0x0006): Symbol not found: __ZN3c1017RegisterOperatorsD1Ev\n",
      "  Referenced from: <C1CC76AA-CD55-3E10-9064-29676E3E2535> /Users/vivekchaudhary/anaconda3/lib/python3.11/site-packages/torchvision/image.so\n",
      "  Expected in:     <B6BD92AE-4D03-3F92-9E03-2E2594A12866> /Users/vivekchaudhary/anaconda3/lib/python3.11/site-packages/torch/lib/libtorch_cpu.dylib'If you don't plan on using image functionality from `torchvision.io`, you can ignore this warning. Otherwise, there might be something wrong with your environment. Did you have `libjpeg` or `libpng` installed before building `torchvision` from source?\n",
      "  warn(\n"
     ]
    },
    {
     "data": {
      "application/vnd.jupyter.widget-view+json": {
       "model_id": "710914819a184cb584d9c58613527fd6",
       "version_major": 2,
       "version_minor": 0
      },
      "text/plain": [
       "Loading checkpoint shards:   0%|          | 0/2 [00:00<?, ?it/s]"
      ]
     },
     "metadata": {},
     "output_type": "display_data"
    },
    {
     "name": "stdout",
     "output_type": "stream",
     "text": [
      "______________________________________________________\n",
      "Mahabalipuram (also spelled as Mamallapuram) is a coastal town located in the Kancheepuram district of the Indian state of Tamil Nadu. It is situated approximately 64 kilometers south of Chennai, the capital city of Tamil Nadu.\n",
      "\n",
      "Mahabalipuram is famous for its rock-cut temples and architectural marvels carved out of the cliffs along the shore. The most notable structures include the Shore Temple, the Arjuna's Penance (Descent of the Ganges) monument, and several other cave temples. These structures were built during the reign of the Pallava dynasty, particularly under Emperor Narasimhavarman I (r. 628–630 CE).\n",
      "\n",
      "The town is also known for its natural beauty, with beautiful beaches and scenic views. Mahabalipuram is a popular tourist destination and is often included on tours of the southern Indian coast.\n"
     ]
    }
   ],
   "source": [
    "model_name = \"Qwen/Qwen2.5-3B-Instruct\"\n",
    "tokenizer = AutoTokenizer.from_pretrained(model_name)\n",
    "model = AutoModelForCausalLM.from_pretrained(\n",
    "    model_name,\n",
    "    torch_dtype=torch.float16,\n",
    "    device_map=\"auto\",\n",
    "    trust_remote_code=True\n",
    ")\n",
    "\n",
    "# Test question\n",
    "question = \"Where is Mahabalipuram ?\"\n",
    "\n",
    "# Format input\n",
    "messages = [{\"role\": \"user\", \"content\": question}]\n",
    "text = tokenizer.apply_chat_template(messages, tokenize=False, add_generation_prompt=True)\n",
    "\n",
    "# Generate\n",
    "inputs = tokenizer(text, return_tensors=\"pt\").to(model.device)\n",
    "outputs = model.generate(**inputs, max_new_tokens=256, temperature=0.7)\n",
    "response = tokenizer.decode(outputs[0][len(inputs.input_ids[0]):], skip_special_tokens=True)\n",
    "\n",
    "print('______________________________________________________')\n",
    "\n",
    "print(response)\n"
   ]
  }
 ],
 "metadata": {
  "kernelspec": {
   "display_name": "base",
   "language": "python",
   "name": "python3"
  },
  "language_info": {
   "codemirror_mode": {
    "name": "ipython",
    "version": 3
   },
   "file_extension": ".py",
   "mimetype": "text/x-python",
   "name": "python",
   "nbconvert_exporter": "python",
   "pygments_lexer": "ipython3",
   "version": "3.11.5"
  }
 },
 "nbformat": 4,
 "nbformat_minor": 5
}
