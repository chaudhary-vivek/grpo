{
 "cells": [
  {
   "cell_type": "code",
   "execution_count": 10,
   "id": "fe054284",
   "metadata": {},
   "outputs": [],
   "source": [
    "# # Core ML libraries\n",
    "# !pip install torch torchvision torchaudio"
   ]
  },
  {
   "cell_type": "code",
   "execution_count": 11,
   "id": "ed931c87",
   "metadata": {},
   "outputs": [],
   "source": [
    "# !pip install transformers accelerate datasets tokenizers"
   ]
  },
  {
   "cell_type": "code",
   "execution_count": 12,
   "id": "49d13743",
   "metadata": {},
   "outputs": [],
   "source": [
    "# # For GRPO implementation\n",
    "# !pip install trl peft wandb"
   ]
  }
 ],
 "metadata": {
  "kernelspec": {
   "display_name": "base",
   "language": "python",
   "name": "python3"
  },
  "language_info": {
   "codemirror_mode": {
    "name": "ipython",
    "version": 3
   },
   "file_extension": ".py",
   "mimetype": "text/x-python",
   "name": "python",
   "nbconvert_exporter": "python",
   "pygments_lexer": "ipython3",
   "version": "3.11.5"
  }
 },
 "nbformat": 4,
 "nbformat_minor": 5
}
