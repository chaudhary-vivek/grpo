{
 "cells": [
  {
   "cell_type": "code",
   "execution_count": null,
   "id": "578a6890",
   "metadata": {},
   "outputs": [],
   "source": [
    "import numpy as np\n",
    "import random\n",
    "from accelerate import Accelerator\n",
    "\n",
    "model_name = 'models/sft_SmolLM-135M-Instruct'\n",
    "batch_size = 2\n",
    "n_rollouts = 3\n",
    "buffer_size = 6\n",
    "max_new_tokens = 100\n",
    "\n",
    "llm = load_model(model_name)"
   ]
  }
 ],
 "metadata": {
  "language_info": {
   "name": "python"
  }
 },
 "nbformat": 4,
 "nbformat_minor": 5
}
